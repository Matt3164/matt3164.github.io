{
 "cells": [
  {
   "cell_type": "markdown",
   "metadata": {},
   "source": [
    "# How to compute local binary patterns features\n",
    "\n",
    "[Link](https://scikit-image.org/docs/dev/auto_examples/features_detection/plot_local_binary_pattern.html)"
   ]
  },
  {
   "cell_type": "code",
   "execution_count": 5,
   "metadata": {},
   "outputs": [
    {
     "data": {
      "text/plain": [
       "(-0.5, 31.5, 31.5, -0.5)"
      ]
     },
     "execution_count": 5,
     "metadata": {},
     "output_type": "execute_result"
    },
    {
     "data": {
      "image/png": "[encoded data removed]",
      "text/plain": [
       "<Figure size 432x288 with 2 Axes>"
      ]
     },
     "metadata": {
      "needs_background": "light"
     },
     "output_type": "display_data"
    }
   ],
   "source": [
    "from skimage.feature import local_binary_pattern\n",
    "from skimage.data import chelsea\n",
    "from skimage.transform import resize\n",
    "from skimage.color import rgb2gray\n",
    "from matplotlib.pyplot import imshow, axis, subplot\n",
    "import matplotlib.pyplot as plt\n",
    "%matplotlib inline\n",
    "\n",
    "# settings for LBP\n",
    "radius = 3\n",
    "n_points = 8 * radius\n",
    "\n",
    "image = resize(rgb2gray(chelsea()), (32, 32))\n",
    "lbp = local_binary_pattern(image, n_points, radius, \"uniform\")\n",
    "\n",
    "subplot(1,2,1)\n",
    "imshow(image, cmap=plt.cm.gray)\n",
    "axis(\"off\")\n",
    "subplot(1,2,2)\n",
    "imshow(lbp, cmap=plt.cm.gray)\n",
    "axis(\"off\")"
   ]
  }
 ],
 "metadata": {
  "kernelspec": {
   "display_name": "Python 3",
   "language": "python",
   "name": "python3"
  },
  "language_info": {
   "codemirror_mode": {
    "name": "ipython",
    "version": 3
   },
   "file_extension": ".py",
   "mimetype": "text/x-python",
   "name": "python",
   "nbconvert_exporter": "python",
   "pygments_lexer": "ipython3",
   "version": "3.7.3"
  }
 },
 "nbformat": 4,
 "nbformat_minor": 4
}
