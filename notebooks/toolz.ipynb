{
 "cells": [
  {
   "cell_type": "markdown",
   "metadata": {
    "pycharm": {
     "name": "#%% md\n"
    }
   },
   "source": [
    "# Toolz\n",
    "\n",
    "Amazing library to do functionnal programming in Python.\n",
    "\n",
    "## compose"
   ]
  },
  {
   "cell_type": "code",
   "execution_count": null,
   "outputs": [],
   "source": [
    "from toolz import compose\n",
    "\n",
    "def func1(i: int)->int:     \n",
    "    return i+2\n",
    "\n",
    "def func2(i: int)->int:\n",
    "    return i - 1\n",
    "\n",
    "func3 = compose(func2, func1)\n",
    "\n",
    "print(func3(3)) # ->4"
   ],
   "metadata": {
    "collapsed": false,
    "pycharm": {
     "name": "#%%\n"
    }
   }
  },
  {
   "cell_type": "markdown",
   "source": [
    "## pipe\n",
    "\n",
    "Apply successive functions on value"
   ],
   "metadata": {
    "collapsed": false
   }
  },
  {
   "cell_type": "code",
   "execution_count": null,
   "outputs": [],
   "source": [
    "from toolz import pipe\n",
    "\n",
    "print( pipe( 3,\n",
    "    lambda x: x+1,\n",
    "    lambda x: x-2,\n",
    "    lambda _: 4,\n",
    "    float\n",
    ")) # -> 4.0"
   ],
   "metadata": {
    "collapsed": false,
    "pycharm": {
     "name": "#%%\n"
    }
   }
  },
  {
   "cell_type": "markdown",
   "source": [
    "Full example"
   ],
   "metadata": {
    "collapsed": false
   }
  },
  {
   "cell_type": "code",
   "execution_count": null,
   "outputs": [],
   "source": [
    "from toolz import pipe, compose\n",
    "from toolz.curried import map, filter\n",
    "\n",
    "\n",
    "print(pipe( range(100),\n",
    "    filter(lambda x : x%2),\n",
    "    map(compose(lambda x : 2*x, lambda x: x+1)),\n",
    "    filter(lambda x : x<20),\n",
    "    list\n",
    ")) # -> 4,8,12,16\n",
    "\n"
   ],
   "metadata": {
    "collapsed": false,
    "pycharm": {
     "name": "#%%\n"
    }
   }
  },
  {
   "cell_type": "code",
   "execution_count": 4,
   "metadata": {},
   "outputs": [
    {
     "name": "stdout",
     "output_type": "stream",
     "text": [
      "4\n"
     ]
    }
   ],
   "source": [
    "from toolz import pipe, compose\n",
    "from toolz.curried import map, filter\n",
    "\n",
    "\n",
    "print(pipe( range(100),\n",
    "    filter(lambda x : x%2),\n",
    "    map(compose(lambda x : 2*x, lambda x: x+1)),\n",
    "    filter(lambda x : x<20),\n",
    "    list\n",
    ")) # -> 4,8,12,16\n",
    "\n"
   ]
  },
  {
   "cell_type": "markdown",
   "metadata": {},
   "source": [
    "## pipe\n",
    "\n",
    "Apply successive functions on value"
   ]
  },
  {
   "cell_type": "code",
   "execution_count": 3,
   "metadata": {},
   "outputs": [
    {
     "name": "stdout",
     "output_type": "stream",
     "text": [
      "4.0\n"
     ]
    }
   ],
   "source": [
    "from toolz import pipe\n",
    "\n",
    "print( pipe( 3,\n",
    "    lambda x: x+1,\n",
    "    lambda x: x-2,\n",
    "    lambda _: 4,\n",
    "    float\n",
    ")) # -> 4.0"
   ]
  },
  {
   "cell_type": "markdown",
   "metadata": {},
   "source": [
    "Full example"
   ]
  },
  {
   "cell_type": "code",
   "execution_count": 2,
   "metadata": {},
   "outputs": [
    {
     "name": "stdout",
     "output_type": "stream",
     "text": [
      "[4, 8, 12, 16]\n"
     ]
    }
   ],
   "source": [
    "from toolz import pipe, compose\n",
    "from toolz.curried import map, filter\n",
    "\n",
    "\n",
    "print(pipe( range(100),\n",
    "    filter(lambda x : x%2),\n",
    "    map(compose(lambda x : 2*x, lambda x: x+1)),\n",
    "    filter(lambda x : x<20),\n",
    "    list\n",
    ")) # -> 4,8,12,16\n",
    "\n"
   ]
  }
 ],
 "metadata": {
  "kernelspec": {
   "display_name": "Python 3",
   "language": "python",
   "name": "python3"
  },
  "language_info": {
   "codemirror_mode": {
    "name": "ipython",
    "version": 3
   },
   "file_extension": ".py",
   "mimetype": "text/x-python",
   "name": "python",
   "nbconvert_exporter": "python",
   "pygments_lexer": "ipython3",
   "version": "3.7.3"
  },
  "pycharm": {
   "stem_cell": {
    "cell_type": "raw",
    "source": [],
    "metadata": {
     "collapsed": false
    }
   }
  }
 },
 "nbformat": 4,
 "nbformat_minor": 1
}