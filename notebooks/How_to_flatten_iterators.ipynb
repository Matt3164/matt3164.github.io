{
 "cells": [
  {
   "cell_type": "markdown",
   "metadata": {
    "pycharm": {
     "name": "#%%\n"
    }
   },
   "source": [
    "# How to flatten iterators\n",
    "\n",
    "How to create a longer iterator from a list of iterators or an iterator of iterators."
   ]
  },
  {
   "cell_type": "code",
   "execution_count": 1,
   "metadata": {
    "pycharm": {
     "name": "#%%\n"
    }
   },
   "outputs": [
    {
     "name": "stdout",
     "output_type": "stream",
     "text": [
      "Value : 0\n",
      "Value : 1\n",
      "Value : 2\n",
      "Value : 3\n",
      "Value : 4\n",
      "Value : 5\n",
      "Value : 6\n",
      "Value : 7\n",
      "Value : 8\n",
      "Value : 9\n",
      "Value : 0\n",
      "Value : 1\n",
      "Value : 2\n",
      "Value : 3\n",
      "Value : 4\n",
      "Value : 5\n",
      "Value : 6\n",
      "Value : 7\n",
      "Value : 8\n",
      "Value : 9\n"
     ]
    }
   ],
   "source": [
    "from itertools import chain\n",
    "\n",
    "new_iter = chain.from_iterable([range(10), range(10)])\n",
    "\n",
    "for elmt in new_iter:\n",
    "    print(f\"Value : {elmt}\")\n",
    "    "
   ]
  }
 ],
 "metadata": {
  "kernelspec": {
   "display_name": "Python 3",
   "language": "python",
   "name": "python3"
  },
  "language_info": {
   "codemirror_mode": {
    "name": "ipython",
    "version": 3
   },
   "file_extension": ".py",
   "mimetype": "text/x-python",
   "name": "python",
   "nbconvert_exporter": "python",
   "pygments_lexer": "ipython3",
   "version": "3.7.3"
  },
  "pycharm": {
   "stem_cell": {
    "cell_type": "raw",
    "metadata": {
     "collapsed": false
    },
    "source": []
   }
  }
 },
 "nbformat": 4,
 "nbformat_minor": 4
}
