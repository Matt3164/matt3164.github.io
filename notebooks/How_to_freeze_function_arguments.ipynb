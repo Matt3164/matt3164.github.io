{
 "cells": [
  {
   "cell_type": "markdown",
   "metadata": {},
   "source": [
    "# How to freeze function arguments using partial\n",
    "\n",
    "\n",
    "`partial` is used to freeze some arguments of a function. It is extremely useful for functionnal programming"
   ]
  },
  {
   "cell_type": "code",
   "execution_count": 1,
   "metadata": {},
   "outputs": [
    {
     "name": "stdout",
     "output_type": "stream",
     "text": [
      "4\n"
     ]
    }
   ],
   "source": [
    "from functools import partial\n",
    "\n",
    "def add(i1: int, i2: int)->int:\n",
    "    return i1+i2\n",
    "\n",
    "add2 = partial(add, i2=2)\n",
    "\n",
    "print(add2(2))"
   ]
  },
  {
   "cell_type": "markdown",
   "metadata": {},
   "source": [
    "Here, the initial `add` function takes 2 inputs. Using `partial`, you can generate a new function called `add2` which is the `add` function where the `i2` argument is freezed (equals to a constants here 2). In fact, the syntax equivalent would be the following:"
   ]
  },
  {
   "cell_type": "code",
   "execution_count": 1,
   "metadata": {},
   "outputs": [],
   "source": [
    "def add2(i1: int)->int:\n",
    "    return add(i1, i2=2)"
   ]
  }
 ],
 "metadata": {
  "kernelspec": {
   "display_name": "Python 3",
   "language": "python",
   "name": "python3"
  },
  "language_info": {
   "codemirror_mode": {
    "name": "ipython",
    "version": 3
   },
   "file_extension": ".py",
   "mimetype": "text/x-python",
   "name": "python",
   "nbconvert_exporter": "python",
   "pygments_lexer": "ipython3",
   "version": "3.7.3"
  },
  "pycharm": {
   "stem_cell": {
    "cell_type": "raw",
    "metadata": {
     "collapsed": false
    },
    "source": []
   }
  }
 },
 "nbformat": 4,
 "nbformat_minor": 4
}
