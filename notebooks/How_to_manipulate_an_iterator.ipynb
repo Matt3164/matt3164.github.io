{
 "cells": [
  {
   "cell_type": "markdown",
   "metadata": {},
   "source": [
    "# How to manipulate an iterator\n",
    "\n",
    "It is common to want to truncate or modify an iterator. Fortunately, many tools are available including `islice` from the `itertools` library.\n",
    "\n",
    "Here is an example on how to use `islice` to modify start index, stop index and even step."
   ]
  },
  {
   "cell_type": "code",
   "execution_count": 4,
   "metadata": {
    "pycharm": {
     "name": "#%%\n"
    }
   },
   "outputs": [],
   "source": [
    "from itertools import islice\n",
    "# New iterator starting at 2 ending at 50 jumping 2 to 2\n",
    "new_iter = islice(range(100),2, 50, 2)"
   ]
  }
 ],
 "metadata": {
  "kernelspec": {
   "display_name": "Python 3",
   "language": "python",
   "name": "python3"
  },
  "language_info": {
   "codemirror_mode": {
    "name": "ipython",
    "version": 3
   },
   "file_extension": ".py",
   "mimetype": "text/x-python",
   "name": "python",
   "nbconvert_exporter": "python",
   "pygments_lexer": "ipython3",
   "version": "3.7.3"
  },
  "pycharm": {
   "stem_cell": {
    "cell_type": "raw",
    "metadata": {
     "collapsed": false
    },
    "source": []
   }
  }
 },
 "nbformat": 4,
 "nbformat_minor": 4
}
