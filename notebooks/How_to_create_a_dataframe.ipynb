{
 "cells": [
  {
   "cell_type": "markdown",
   "metadata": {
    "pycharm": {
     "name": "#%% md\n"
    }
   },
   "source": [
    "# How to create a dataframe"
   ]
  },
  {
   "cell_type": "code",
   "execution_count": 1,
   "metadata": {
    "pycharm": {
     "name": "#%%\n"
    }
   },
   "outputs": [
    {
     "name": "stdout",
     "output_type": "stream",
     "text": [
      "       col1      col2\n",
      "0  0.773368  0.880379\n",
      "1  0.911827  0.190046\n",
      "2  0.138238  0.401772\n",
      "3  0.597751  0.407514\n",
      "4  0.151646  0.503074\n",
      "       col1      col2\n",
      "0  0.773368  0.880379\n",
      "1  0.911827  0.190046\n",
      "2  0.138238  0.401772\n",
      "3  0.597751  0.407514\n",
      "4  0.151646  0.503074\n",
      "       col1      col2\n",
      "0  0.773368  0.880379\n",
      "1  0.911827  0.190046\n",
      "2  0.138238  0.401772\n",
      "3  0.597751  0.407514\n",
      "4  0.151646  0.503074\n"
     ]
    }
   ],
   "source": [
    "import numpy as np\n",
    "import pandas\n",
    "\n",
    "col1 = np.random.rand(100)\n",
    "col2 = np.random.rand(100)\n",
    "\n",
    "# From dict of numpy arrays\n",
    "\n",
    "print( pandas.DataFrame.from_dict({\"col1\":col1,\"col2\":col2}).head() ) \n",
    "\n",
    "# From numpy array and list of column names\n",
    "\n",
    "print(pandas.DataFrame.from_records(np.hstack([col1.reshape(-1,1), col2.reshape(-1,1)]), columns=[\"col1\", \"col2\"]).head())\n",
    "\n",
    "# From list of row dict\n",
    "\n",
    "row_dict = list( map(lambda x: {\"col1\": x[0], \"col2\": x[1]} , zip(col1, col2)) )\n",
    "\n",
    "print(pandas.DataFrame.from_records(row_dict).head())\n"
   ]
  }
 ],
 "metadata": {
  "kernelspec": {
   "display_name": "Python 3",
   "language": "python",
   "name": "python3"
  },
  "language_info": {
   "codemirror_mode": {
    "name": "ipython",
    "version": 3
   },
   "file_extension": ".py",
   "mimetype": "text/x-python",
   "name": "python",
   "nbconvert_exporter": "python",
   "pygments_lexer": "ipython3",
   "version": "3.7.3"
  },
  "pycharm": {
   "stem_cell": {
    "cell_type": "raw",
    "metadata": {
     "collapsed": false
    },
    "source": []
   }
  }
 },
 "nbformat": 4,
 "nbformat_minor": 4
}
