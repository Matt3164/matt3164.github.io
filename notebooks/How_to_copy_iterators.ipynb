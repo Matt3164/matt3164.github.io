{
 "cells": [
  {
   "cell_type": "markdown",
   "metadata": {},
   "source": [
    "# How to create synchronized iterators\n",
    "\n",
    "[Reference doc](https://docs.python.org/fr/3/library/itertools.html)\n",
    "\n",
    "How to create 2 iterators with synchronised values"
   ]
  },
  {
   "cell_type": "code",
   "execution_count": 1,
   "metadata": {
    "pycharm": {
     "name": "#%%\n"
    }
   },
   "outputs": [
    {
     "name": "stdout",
     "output_type": "stream",
     "text": [
      "Values: 1st iter 0, 2nd iter 1\n",
      "Values: 1st iter 1, 2nd iter 2\n",
      "Values: 1st iter 2, 2nd iter 3\n",
      "Values: 1st iter 3, 2nd iter 4\n",
      "Values: 1st iter 4, 2nd iter 5\n",
      "Values: 1st iter 5, 2nd iter 6\n",
      "Values: 1st iter 6, 2nd iter 7\n",
      "Values: 1st iter 7, 2nd iter 8\n",
      "Values: 1st iter 8, 2nd iter 9\n",
      "Values: 1st iter 9, 2nd iter 10\n"
     ]
    }
   ],
   "source": [
    "from itertools import tee\n",
    "\n",
    "init_iter = range(10)\n",
    "\n",
    "# Create 2 synchronized iterators\n",
    "sync1, sync2 = tee(init_iter)\n",
    "# Apply one function to one iterator and print to see synchronization\n",
    "for val, valplusone in zip(sync1, map(lambda x: x+1, sync2)):\n",
    "    print(f\"Values: 1st iter {val}, 2nd iter {valplusone}\")\n"
   ]
  }
 ],
 "metadata": {
  "kernelspec": {
   "display_name": "Python 3",
   "language": "python",
   "name": "python3"
  },
  "language_info": {
   "codemirror_mode": {
    "name": "ipython",
    "version": 3
   },
   "file_extension": ".py",
   "mimetype": "text/x-python",
   "name": "python",
   "nbconvert_exporter": "python",
   "pygments_lexer": "ipython3",
   "version": "3.7.3"
  },
  "pycharm": {
   "stem_cell": {
    "cell_type": "raw",
    "metadata": {
     "collapsed": false
    },
    "source": []
   }
  }
 },
 "nbformat": 4,
 "nbformat_minor": 4
}
