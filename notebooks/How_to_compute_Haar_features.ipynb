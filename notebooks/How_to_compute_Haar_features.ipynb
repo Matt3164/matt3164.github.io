{
 "cells": [
  {
   "cell_type": "markdown",
   "metadata": {},
   "source": [
    "# How to compute Haar features\n",
    "\n",
    "Compute haar features as in the famous viola jones paper\n",
    "\n",
    "[Link](https://scikit-image.org/docs/dev/auto_examples/applications/plot_haar_extraction_selection_classification.html#sphx-glr-auto-examples-applications-plot-haar-extraction-selection-classification-py)"
   ]
  },
  {
   "cell_type": "code",
   "execution_count": 4,
   "metadata": {},
   "outputs": [
    {
     "name": "stdout",
     "output_type": "stream",
     "text": [
      "Number of haar feature : 509270\n",
      "Extracted features: (256,)\n"
     ]
    }
   ],
   "source": [
    "from skimage.feature import haar_like_feature_coord, haar_like_feature\n",
    "from skimage.transform import integral_image, resize\n",
    "from skimage.color import rgb2gray\n",
    "from skimage.data import chelsea\n",
    "\n",
    "feature_types = ['type-2-x', 'type-2-y',\n",
    "                 'type-3-x', 'type-3-y',\n",
    "                 'type-4']\n",
    "\n",
    "im = resize(rgb2gray(chelsea()), (32, 32))\n",
    "\n",
    "img_ii = integral_image(im)\n",
    "\n",
    "# Extract all possible features\n",
    "feature_coord, feature_type = haar_like_feature_coord(width=im.shape[0], height=im.shape[1],\n",
    "                            feature_type=feature_types)\n",
    "\n",
    "print(f\"Number of haar feature : {feature_coord.shape[0]}\")\n",
    "\n",
    "# Limiting feature for convenience reasons\n",
    "# This example should run fast :smile:\n",
    "feature_coord = feature_coord[:256]\n",
    "feature_type = feature_type[:256]\n",
    "\n",
    "feats = haar_like_feature(img_ii, 0, 0, img_ii.shape[0], img_ii.shape[1], feature_type=feature_type, feature_coord=feature_coord)\n",
    "\n",
    "print(f\"Extracted features: {feats.shape}\")"
   ]
  }
 ],
 "metadata": {
  "kernelspec": {
   "display_name": "Python 3",
   "language": "python",
   "name": "python3"
  },
  "language_info": {
   "codemirror_mode": {
    "name": "ipython",
    "version": 3
   },
   "file_extension": ".py",
   "mimetype": "text/x-python",
   "name": "python",
   "nbconvert_exporter": "python",
   "pygments_lexer": "ipython3",
   "version": "3.7.3"
  }
 },
 "nbformat": 4,
 "nbformat_minor": 4
}
